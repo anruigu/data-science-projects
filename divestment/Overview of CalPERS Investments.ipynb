{
 "cells": [
  {
   "cell_type": "code",
   "execution_count": 365,
   "metadata": {},
   "outputs": [],
   "source": [
    "import numpy as np\n",
    "import matplotlib.pyplot as plt\n",
    "import pandas as pd\n",
    "import requests\n",
    "from matplotlib.ticker import FuncFormatter"
   ]
  },
  {
   "cell_type": "code",
   "execution_count": 366,
   "metadata": {},
   "outputs": [],
   "source": [
    "p18 = pd.read_csv('PERS2018.csv')\n",
    "p19 = pd.read_csv('PERS2019v2.csv')"
   ]
  },
  {
   "cell_type": "code",
   "execution_count": 367,
   "metadata": {},
   "outputs": [
    {
     "data": {
      "text/html": [
       "<div>\n",
       "<style scoped>\n",
       "    .dataframe tbody tr th:only-of-type {\n",
       "        vertical-align: middle;\n",
       "    }\n",
       "\n",
       "    .dataframe tbody tr th {\n",
       "        vertical-align: top;\n",
       "    }\n",
       "\n",
       "    .dataframe thead th {\n",
       "        text-align: right;\n",
       "    }\n",
       "</style>\n",
       "<table border=\"1\" class=\"dataframe\">\n",
       "  <thead>\n",
       "    <tr style=\"text-align: right;\">\n",
       "      <th></th>\n",
       "      <th>name</th>\n",
       "      <th>group2</th>\n",
       "      <th>group</th>\n",
       "      <th>type</th>\n",
       "      <th>amount</th>\n",
       "    </tr>\n",
       "  </thead>\n",
       "  <tbody>\n",
       "    <tr>\n",
       "      <th>0</th>\n",
       "      <td>HARBERT GULF PACIFIC POWER (GP</td>\n",
       "      <td>Group 4 - More Fossil Fuels</td>\n",
       "      <td>Group 4 - More Fossil Fuels</td>\n",
       "      <td>Infrastructure Partnerships</td>\n",
       "      <td>1039118102</td>\n",
       "    </tr>\n",
       "    <tr>\n",
       "      <th>1</th>\n",
       "      <td>EXXON MOBIL CORP</td>\n",
       "      <td>Group 1 - Production</td>\n",
       "      <td>Group 1 - Production</td>\n",
       "      <td>Equity - Domestic Equity</td>\n",
       "      <td>948272439</td>\n",
       "    </tr>\n",
       "    <tr>\n",
       "      <th>2</th>\n",
       "      <td>BERKSHIRE HATHAWAY INC CL B</td>\n",
       "      <td>Group 4 - More Fossil Fuels</td>\n",
       "      <td>Group 0 - CoalExit</td>\n",
       "      <td>Equity - Domestic Equity</td>\n",
       "      <td>723556564</td>\n",
       "    </tr>\n",
       "    <tr>\n",
       "      <th>3</th>\n",
       "      <td>CHEVRON CORP</td>\n",
       "      <td>Group 1 - Production</td>\n",
       "      <td>Group 1 - Production</td>\n",
       "      <td>Equity - Domestic Equity</td>\n",
       "      <td>622142180</td>\n",
       "    </tr>\n",
       "    <tr>\n",
       "      <th>4</th>\n",
       "      <td>ROYAL DUTCH SHELL PLC A SHS</td>\n",
       "      <td>Group 1 - Production</td>\n",
       "      <td>Group 1 - Production</td>\n",
       "      <td>Equity - International Equity</td>\n",
       "      <td>445211473</td>\n",
       "    </tr>\n",
       "  </tbody>\n",
       "</table>\n",
       "</div>"
      ],
      "text/plain": [
       "                             name                       group2  \\\n",
       "0  HARBERT GULF PACIFIC POWER (GP  Group 4 - More Fossil Fuels   \n",
       "1                EXXON MOBIL CORP         Group 1 - Production   \n",
       "2     BERKSHIRE HATHAWAY INC CL B  Group 4 - More Fossil Fuels   \n",
       "3                    CHEVRON CORP         Group 1 - Production   \n",
       "4     ROYAL DUTCH SHELL PLC A SHS         Group 1 - Production   \n",
       "\n",
       "                         group                           type      amount  \n",
       "0  Group 4 - More Fossil Fuels    Infrastructure Partnerships  1039118102  \n",
       "1         Group 1 - Production       Equity - Domestic Equity   948272439  \n",
       "2           Group 0 - CoalExit       Equity - Domestic Equity   723556564  \n",
       "3         Group 1 - Production       Equity - Domestic Equity   622142180  \n",
       "4         Group 1 - Production  Equity - International Equity   445211473  "
      ]
     },
     "execution_count": 367,
     "metadata": {},
     "output_type": "execute_result"
    }
   ],
   "source": [
    "p18.loc[:,'amount'] = p18.amount.str.replace(',','',regex=True).astype('int')\n",
    "p18['amount'] = p18.groupby('name')['amount'].transform('sum')\n",
    "p18=p18.drop_duplicates('name')\n",
    "p18 = p18.sort_values('amount',ascending=False)\n",
    "p18.head()"
   ]
  },
  {
   "cell_type": "code",
   "execution_count": 368,
   "metadata": {},
   "outputs": [
    {
     "data": {
      "text/html": [
       "<div>\n",
       "<style scoped>\n",
       "    .dataframe tbody tr th:only-of-type {\n",
       "        vertical-align: middle;\n",
       "    }\n",
       "\n",
       "    .dataframe tbody tr th {\n",
       "        vertical-align: top;\n",
       "    }\n",
       "\n",
       "    .dataframe thead th {\n",
       "        text-align: right;\n",
       "    }\n",
       "</style>\n",
       "<table border=\"1\" class=\"dataframe\">\n",
       "  <thead>\n",
       "    <tr style=\"text-align: right;\">\n",
       "      <th></th>\n",
       "      <th>fund</th>\n",
       "      <th>type</th>\n",
       "      <th>name</th>\n",
       "      <th>amount</th>\n",
       "      <th>group2</th>\n",
       "      <th>group</th>\n",
       "    </tr>\n",
       "  </thead>\n",
       "  <tbody>\n",
       "    <tr>\n",
       "      <th>33442</th>\n",
       "      <td>CalPERS_20190630</td>\n",
       "      <td>Infrastructure Partnerships</td>\n",
       "      <td>HARBERT GULF PACIFIC POWER (GP</td>\n",
       "      <td>1181992633</td>\n",
       "      <td>Group 4 - More Fossil Fuels</td>\n",
       "      <td>Group 4 - More Fossil Fuels</td>\n",
       "    </tr>\n",
       "    <tr>\n",
       "      <th>33388</th>\n",
       "      <td>CalPERS_20190630</td>\n",
       "      <td>Domestic Equity</td>\n",
       "      <td>NEXTERA ENERGY INC</td>\n",
       "      <td>758730968</td>\n",
       "      <td>Group 3 - Utility</td>\n",
       "      <td>Group 3 - Utility</td>\n",
       "    </tr>\n",
       "    <tr>\n",
       "      <th>33365</th>\n",
       "      <td>CalPERS_20190630</td>\n",
       "      <td>Domestic Equity</td>\n",
       "      <td>EXXON MOBIL CORP</td>\n",
       "      <td>657617663</td>\n",
       "      <td>Group 1 - Production</td>\n",
       "      <td>Group 1 - Production</td>\n",
       "    </tr>\n",
       "    <tr>\n",
       "      <th>33347</th>\n",
       "      <td>CalPERS_20190630</td>\n",
       "      <td>Domestic Equity</td>\n",
       "      <td>CHEVRON CORP</td>\n",
       "      <td>602147738</td>\n",
       "      <td>Group 1 - Production</td>\n",
       "      <td>Group 1 - Production</td>\n",
       "    </tr>\n",
       "    <tr>\n",
       "      <th>33339</th>\n",
       "      <td>CalPERS_20190630</td>\n",
       "      <td>Domestic Equity</td>\n",
       "      <td>BERKSHIRE HATHAWAY INC CL B</td>\n",
       "      <td>575928637</td>\n",
       "      <td>Group 4 - More Fossil Fuels</td>\n",
       "      <td>Group 0 - Coal Exit</td>\n",
       "    </tr>\n",
       "  </tbody>\n",
       "</table>\n",
       "</div>"
      ],
      "text/plain": [
       "                   fund                         type  \\\n",
       "33442  CalPERS_20190630  Infrastructure Partnerships   \n",
       "33388  CalPERS_20190630              Domestic Equity   \n",
       "33365  CalPERS_20190630              Domestic Equity   \n",
       "33347  CalPERS_20190630              Domestic Equity   \n",
       "33339  CalPERS_20190630              Domestic Equity   \n",
       "\n",
       "                                 name      amount  \\\n",
       "33442  HARBERT GULF PACIFIC POWER (GP  1181992633   \n",
       "33388              NEXTERA ENERGY INC   758730968   \n",
       "33365                EXXON MOBIL CORP   657617663   \n",
       "33347                    CHEVRON CORP   602147738   \n",
       "33339     BERKSHIRE HATHAWAY INC CL B   575928637   \n",
       "\n",
       "                            group2                        group  \n",
       "33442  Group 4 - More Fossil Fuels  Group 4 - More Fossil Fuels  \n",
       "33388            Group 3 - Utility            Group 3 - Utility  \n",
       "33365         Group 1 - Production         Group 1 - Production  \n",
       "33347         Group 1 - Production         Group 1 - Production  \n",
       "33339  Group 4 - More Fossil Fuels          Group 0 - Coal Exit  "
      ]
     },
     "execution_count": 368,
     "metadata": {},
     "output_type": "execute_result"
    }
   ],
   "source": [
    "p19=p19.dropna()\n",
    "p19=p19[p19.fund=='CalPERS_20190630']\n",
    "p19.loc[:,'amount'] = p19.amount.str.replace(',','',regex=True).astype('int')\n",
    "p19=p19[p19.group!='Group X - N/A']\n",
    "p19['amount'] = p19.groupby('name')['amount'].transform('sum')\n",
    "p19=p19.drop_duplicates('name')\n",
    "p19 = p19.sort_values('amount',ascending=False)\n",
    "p19.head()"
   ]
  },
  {
   "cell_type": "code",
   "execution_count": 369,
   "metadata": {},
   "outputs": [],
   "source": [
    "\n",
    "top18=p18[0:10]\n",
    "top19=p19[0:10]\n"
   ]
  },
  {
   "cell_type": "code",
   "execution_count": 370,
   "metadata": {},
   "outputs": [
    {
     "data": {
      "image/png": "[encoded data removed]",
      "text/plain": [
       "<Figure size 432x288 with 2 Axes>"
      ]
     },
     "metadata": {
      "needs_background": "light"
     },
     "output_type": "display_data"
    }
   ],
   "source": [
    "#create 2 subplots: one containing top for p18, the other for p19\n",
    "fig,ax = plt.subplots(2,1,sharex=True)\n",
    "ax[0].barh('name','amount',data=top18)\n",
    "ax[0].set_yticklabels(top18.name)\n",
    "ax[0].set_title('Top Investments 2018')\n",
    "ax[0].set_ylim(ax[0].get_ylim()[::-1])\n",
    "ax[1].barh('name','amount',data=top19)\n",
    "ax[1].set_yticklabels(top19.name)\n",
    "ax[1].set_title('Top Investments 2019')\n",
    "ax[1].set_ylim(ax[1].get_ylim()[::-1])\n",
    "ax[0].xaxis.set_major_formatter(formatter)"
   ]
  },
  {
   "cell_type": "code",
   "execution_count": 371,
   "metadata": {},
   "outputs": [
    {
     "data": {
      "text/html": [
       "<div>\n",
       "<style scoped>\n",
       "    .dataframe tbody tr th:only-of-type {\n",
       "        vertical-align: middle;\n",
       "    }\n",
       "\n",
       "    .dataframe tbody tr th {\n",
       "        vertical-align: top;\n",
       "    }\n",
       "\n",
       "    .dataframe thead th {\n",
       "        text-align: right;\n",
       "    }\n",
       "</style>\n",
       "<table border=\"1\" class=\"dataframe\">\n",
       "  <thead>\n",
       "    <tr style=\"text-align: right;\">\n",
       "      <th></th>\n",
       "      <th>fund</th>\n",
       "      <th>type</th>\n",
       "      <th>name</th>\n",
       "      <th>amount</th>\n",
       "      <th>group2</th>\n",
       "      <th>group</th>\n",
       "    </tr>\n",
       "  </thead>\n",
       "  <tbody>\n",
       "    <tr>\n",
       "      <th>33442</th>\n",
       "      <td>CalPERS_20190630</td>\n",
       "      <td>Infrastructure Partnerships</td>\n",
       "      <td>HARBERT GULF PACIFIC POWER (GP</td>\n",
       "      <td>1181992633</td>\n",
       "      <td>Group 4 - More Fossil Fuels</td>\n",
       "      <td>Group 4 - More Fossil Fuels</td>\n",
       "    </tr>\n",
       "    <tr>\n",
       "      <th>33388</th>\n",
       "      <td>CalPERS_20190630</td>\n",
       "      <td>Domestic Equity</td>\n",
       "      <td>NEXTERA ENERGY INC</td>\n",
       "      <td>758730968</td>\n",
       "      <td>Group 3 - Utility</td>\n",
       "      <td>Group 3 - Utility</td>\n",
       "    </tr>\n",
       "    <tr>\n",
       "      <th>33365</th>\n",
       "      <td>CalPERS_20190630</td>\n",
       "      <td>Domestic Equity</td>\n",
       "      <td>EXXON MOBIL CORP</td>\n",
       "      <td>657617663</td>\n",
       "      <td>Group 1 - Production</td>\n",
       "      <td>Group 1 - Production</td>\n",
       "    </tr>\n",
       "    <tr>\n",
       "      <th>33347</th>\n",
       "      <td>CalPERS_20190630</td>\n",
       "      <td>Domestic Equity</td>\n",
       "      <td>CHEVRON CORP</td>\n",
       "      <td>602147738</td>\n",
       "      <td>Group 1 - Production</td>\n",
       "      <td>Group 1 - Production</td>\n",
       "    </tr>\n",
       "    <tr>\n",
       "      <th>33339</th>\n",
       "      <td>CalPERS_20190630</td>\n",
       "      <td>Domestic Equity</td>\n",
       "      <td>BERKSHIRE HATHAWAY INC CL B</td>\n",
       "      <td>575928637</td>\n",
       "      <td>Group 4 - More Fossil Fuels</td>\n",
       "      <td>Group 0 - Coal Exit</td>\n",
       "    </tr>\n",
       "  </tbody>\n",
       "</table>\n",
       "</div>"
      ],
      "text/plain": [
       "                   fund                         type  \\\n",
       "33442  CalPERS_20190630  Infrastructure Partnerships   \n",
       "33388  CalPERS_20190630              Domestic Equity   \n",
       "33365  CalPERS_20190630              Domestic Equity   \n",
       "33347  CalPERS_20190630              Domestic Equity   \n",
       "33339  CalPERS_20190630              Domestic Equity   \n",
       "\n",
       "                                 name      amount  \\\n",
       "33442  HARBERT GULF PACIFIC POWER (GP  1181992633   \n",
       "33388              NEXTERA ENERGY INC   758730968   \n",
       "33365                EXXON MOBIL CORP   657617663   \n",
       "33347                    CHEVRON CORP   602147738   \n",
       "33339     BERKSHIRE HATHAWAY INC CL B   575928637   \n",
       "\n",
       "                            group2                        group  \n",
       "33442  Group 4 - More Fossil Fuels  Group 4 - More Fossil Fuels  \n",
       "33388            Group 3 - Utility            Group 3 - Utility  \n",
       "33365         Group 1 - Production         Group 1 - Production  \n",
       "33347         Group 1 - Production         Group 1 - Production  \n",
       "33339  Group 4 - More Fossil Fuels          Group 0 - Coal Exit  "
      ]
     },
     "execution_count": 371,
     "metadata": {},
     "output_type": "execute_result"
    }
   ],
   "source": [
    "top19.head()"
   ]
  },
  {
   "cell_type": "code",
   "execution_count": 372,
   "metadata": {},
   "outputs": [],
   "source": [
    "table18 = top18[['name','amount']]\n"
   ]
  },
  {
   "cell_type": "code",
   "execution_count": 373,
   "metadata": {},
   "outputs": [],
   "source": [
    "table19 = top19[['name','amount']]"
   ]
  },
  {
   "cell_type": "code",
   "execution_count": 374,
   "metadata": {},
   "outputs": [],
   "source": [
    "topchange = table18.merge(table19, how='inner',on='name')"
   ]
  },
  {
   "cell_type": "code",
   "execution_count": 375,
   "metadata": {},
   "outputs": [],
   "source": [
    "topchange['diff'] = topchange.amount_y - topchange.amount_x"
   ]
  },
  {
   "cell_type": "code",
   "execution_count": 376,
   "metadata": {},
   "outputs": [
    {
     "data": {
      "image/png": "[encoded data removed]",
      "text/plain": [
       "<Figure size 432x288 with 1 Axes>"
      ]
     },
     "metadata": {
      "needs_background": "light"
     },
     "output_type": "display_data"
    }
   ],
   "source": [
    "fig, ax = plt.subplots()\n",
    "ax.bar('name','diff',data=topchange)\n",
    "ax.set_xticklabels(topchange.name,rotation=90)\n",
    "ax.set_title('Change in top 10 investments 2018-2019')\n",
    "def millions(x, pos):\n",
    "    'The two args are the value and tick position'\n",
    "    return '%1.1fM' % (x * 1e-6)\n",
    "formatter = FuncFormatter(millions)\n",
    "ax.yaxis.set_major_formatter(formatter)"
   ]
  },
  {
   "cell_type": "code",
   "execution_count": 377,
   "metadata": {},
   "outputs": [
    {
     "data": {
      "text/plain": [
       "<matplotlib.axes._subplots.AxesSubplot at 0x12a67a6a0>"
      ]
     },
     "execution_count": 377,
     "metadata": {},
     "output_type": "execute_result"
    },
    {
     "data": {
      "image/png": "[encoded data removed]",
      "text/plain": [
       "<Figure size 432x288 with 1 Axes>"
      ]
     },
     "metadata": {},
     "output_type": "display_data"
    }
   ],
   "source": [
    "pie18=top18.group.value_counts()\n",
    "pie.plot.pie()"
   ]
  },
  {
   "cell_type": "code",
   "execution_count": 378,
   "metadata": {},
   "outputs": [
    {
     "data": {
      "text/plain": [
       "<matplotlib.axes._subplots.AxesSubplot at 0x12a3741c0>"
      ]
     },
     "execution_count": 378,
     "metadata": {},
     "output_type": "execute_result"
    },
    {
     "data": {
      "image/png": "[encoded data removed]",
      "text/plain": [
       "<Figure size 432x288 with 1 Axes>"
      ]
     },
     "metadata": {},
     "output_type": "display_data"
    }
   ],
   "source": [
    "pie19=top19.group.value_counts()\n",
    "pie.plot.pie()"
   ]
  },
  {
   "cell_type": "code",
   "execution_count": 379,
   "metadata": {},
   "outputs": [],
   "source": [
    "val1= p18.group.value_counts()\n",
    "val2=p19.group.value_counts()\n",
    "val1.reset_index(drop=True, inplace=True)\n",
    "val2.reset_index(drop=True, inplace=True)\n",
    "groups = pd.concat([val1,val2],axis=1)\n",
    "groups.columns=['group18','group19']"
   ]
  },
  {
   "cell_type": "code",
   "execution_count": 380,
   "metadata": {},
   "outputs": [],
   "source": [
    "groups=groups.iloc[0:5]\n",
    "groups.index= ['Group 2 - Support','Group 1 - Production','Group 3 - Utility','Group 0 - Coal Exit','Group 4 - More Fossil Fuels']\n",
    "groups['group']= groups.index"
   ]
  },
  {
   "cell_type": "code",
   "execution_count": 381,
   "metadata": {},
   "outputs": [
    {
     "data": {
      "text/plain": [
       "(array([0, 1, 2, 3, 4]), <a list of 5 Text major ticklabel objects>)"
      ]
     },
     "execution_count": 381,
     "metadata": {},
     "output_type": "execute_result"
    },
    {
     "data": {
      "image/png": "[encoded data removed]",
      "text/plain": [
       "<Figure size 432x288 with 1 Axes>"
      ]
     },
     "metadata": {
      "needs_background": "light"
     },
     "output_type": "display_data"
    }
   ],
   "source": [
    "groups = groups.sort_values('group')\n",
    "groups.plot(x='group',y=['group18','group19'],kind='bar')\n",
    "plt.title('2018 and 2019 FF Investments by Group')\n",
    "plt.ylabel('Number of investments')\n",
    "plt.xlabel('')\n",
    "plt.xticks(rotation=45)"
   ]
  },
  {
   "cell_type": "code",
   "execution_count": 382,
   "metadata": {},
   "outputs": [],
   "source": [
    "groups['inc'] = groups.group19 - groups.group18"
   ]
  },
  {
   "cell_type": "code",
   "execution_count": 383,
   "metadata": {},
   "outputs": [],
   "source": [
    "#groups.plot.pie(y='inc')\n",
    "#plt.legend().remove()\n",
    "\n",
    "#plt.title('2018-2019 increases in FF investment by group')"
   ]
  },
  {
   "cell_type": "code",
   "execution_count": 384,
   "metadata": {},
   "outputs": [],
   "source": [
    "subset1 = p18[['group','amount']]\n",
    "asset1 = p18.groupby('group').sum()"
   ]
  },
  {
   "cell_type": "code",
   "execution_count": 385,
   "metadata": {},
   "outputs": [],
   "source": [
    "subset2 = p19[['group','amount']]\n",
    "asset2 = p19.groupby('group').sum()"
   ]
  },
  {
   "cell_type": "code",
   "execution_count": 386,
   "metadata": {},
   "outputs": [],
   "source": [
    "dollars_group = asset1.merge(asset2,on='group')\n",
    "dollars_group.columns = ['amount18','amount19']"
   ]
  },
  {
   "cell_type": "code",
   "execution_count": 387,
   "metadata": {},
   "outputs": [
    {
     "data": {
      "text/plain": [
       "(array([0, 1, 2, 3]), <a list of 4 Text major ticklabel objects>)"
      ]
     },
     "execution_count": 387,
     "metadata": {},
     "output_type": "execute_result"
    },
    {
     "data": {
      "image/png": "[encoded data removed]",
      "text/plain": [
       "<Figure size 432x288 with 1 Axes>"
      ]
     },
     "metadata": {
      "needs_background": "light"
     },
     "output_type": "display_data"
    }
   ],
   "source": [
    "dollars_group = dollars_group.reset_index().sort_values('group')\n",
    "dollars_group.plot(x='group',y=['amount18','amount19'],kind='bar')\n",
    "plt.title('2018 and 2019 FF Investments by Group in Dollars')\n",
    "plt.ylabel('Amount of Investments (Billions $)')\n",
    "plt.xlabel('')\n",
    "plt.xticks(rotation=45)"
   ]
  },
  {
   "cell_type": "code",
   "execution_count": 388,
   "metadata": {},
   "outputs": [
    {
     "data": {
      "text/plain": [
       "30408917346"
      ]
     },
     "execution_count": 388,
     "metadata": {},
     "output_type": "execute_result"
    }
   ],
   "source": [
    "sum(p19.amount)"
   ]
  },
  {
   "cell_type": "code",
   "execution_count": 389,
   "metadata": {},
   "outputs": [
    {
     "data": {
      "text/plain": [
       "27610955268"
      ]
     },
     "execution_count": 389,
     "metadata": {},
     "output_type": "execute_result"
    }
   ],
   "source": [
    "sum(p18.amount)"
   ]
  },
  {
   "cell_type": "code",
   "execution_count": 390,
   "metadata": {},
   "outputs": [
    {
     "data": {
      "text/plain": [
       "1"
      ]
     },
     "execution_count": 390,
     "metadata": {},
     "output_type": "execute_result"
    }
   ],
   "source": [
    "sum(p18.amount<0)"
   ]
  },
  {
   "cell_type": "code",
   "execution_count": 391,
   "metadata": {},
   "outputs": [
    {
     "data": {
      "text/plain": [
       "0"
      ]
     },
     "execution_count": 391,
     "metadata": {},
     "output_type": "execute_result"
    }
   ],
   "source": [
    "sum(p19.amount<0)"
   ]
  },
  {
   "cell_type": "code",
   "execution_count": 392,
   "metadata": {},
   "outputs": [],
   "source": [
    "p5 = p19[p19.group!='Group 5 - Broad Market Fund']"
   ]
  },
  {
   "cell_type": "code",
   "execution_count": 393,
   "metadata": {},
   "outputs": [
    {
     "data": {
      "text/plain": [
       "30308008999"
      ]
     },
     "execution_count": 393,
     "metadata": {},
     "output_type": "execute_result"
    }
   ],
   "source": [
    "sum(p5.amount)"
   ]
  },
  {
   "cell_type": "code",
   "execution_count": 394,
   "metadata": {},
   "outputs": [
    {
     "data": {
      "text/plain": [
       "Group 2 - Support              368\n",
       "Group 1 - Production           249\n",
       "Group 3 - Utility              203\n",
       "Group 0 - Coal Exit            186\n",
       "Group 4 - More Fossil Fuels     42\n",
       "Group 5 - Broad Market Fund      9\n",
       "Name: group, dtype: int64"
      ]
     },
     "execution_count": 394,
     "metadata": {},
     "output_type": "execute_result"
    }
   ],
   "source": [
    "p19.group.value_counts()"
   ]
  },
  {
   "cell_type": "code",
   "execution_count": null,
   "metadata": {},
   "outputs": [],
   "source": []
  }
 ],
 "metadata": {
  "kernelspec": {
   "display_name": "Python 3",
   "language": "python",
   "name": "python3"
  },
  "language_info": {
   "codemirror_mode": {
    "name": "ipython",
    "version": 3
   },
   "file_extension": ".py",
   "mimetype": "text/x-python",
   "name": "python",
   "nbconvert_exporter": "python",
   "pygments_lexer": "ipython3",
   "version": "3.8.3"
  }
 },
 "nbformat": 4,
 "nbformat_minor": 4
}
